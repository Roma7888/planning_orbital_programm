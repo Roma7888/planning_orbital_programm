{
 "cells": [
  {
   "cell_type": "code",
   "execution_count": 1,
   "id": "8f3ea1ff",
   "metadata": {},
   "outputs": [
    {
     "name": "stdout",
     "output_type": "stream",
     "text": [
      "Requirement already satisfied: pyorbital in c:\\users\\sirius\\anaconda3\\lib\\site-packages (1.10.2)\n",
      "Requirement already satisfied: defusedxml in c:\\users\\sirius\\anaconda3\\lib\\site-packages (from pyorbital) (0.7.1)\n",
      "Requirement already satisfied: numpy>=1.19.0 in c:\\users\\sirius\\anaconda3\\lib\\site-packages (from pyorbital) (1.26.4)\n",
      "Requirement already satisfied: pyproj>=3.7.1 in c:\\users\\sirius\\anaconda3\\lib\\site-packages (from pyorbital) (3.7.1)\n",
      "Requirement already satisfied: requests in c:\\users\\sirius\\anaconda3\\lib\\site-packages (from pyorbital) (2.32.3)\n",
      "Requirement already satisfied: scipy in c:\\users\\sirius\\anaconda3\\lib\\site-packages (from pyorbital) (1.13.1)\n",
      "Requirement already satisfied: certifi in c:\\users\\sirius\\anaconda3\\lib\\site-packages (from pyproj>=3.7.1->pyorbital) (2025.6.15)\n",
      "Requirement already satisfied: charset-normalizer<4,>=2 in c:\\users\\sirius\\anaconda3\\lib\\site-packages (from requests->pyorbital) (3.3.2)\n",
      "Requirement already satisfied: idna<4,>=2.5 in c:\\users\\sirius\\anaconda3\\lib\\site-packages (from requests->pyorbital) (3.7)\n",
      "Requirement already satisfied: urllib3<3,>=1.21.1 in c:\\users\\sirius\\anaconda3\\lib\\site-packages (from requests->pyorbital) (2.2.3)\n",
      "Requirement already satisfied: spacetrack in c:\\users\\sirius\\anaconda3\\lib\\site-packages (1.4.0)\n",
      "Requirement already satisfied: filelock>=3.17.0 in c:\\users\\sirius\\anaconda3\\lib\\site-packages (from spacetrack) (3.18.0)\n",
      "Requirement already satisfied: httpx>=0.28.1 in c:\\users\\sirius\\anaconda3\\lib\\site-packages (from spacetrack) (0.28.1)\n",
      "Requirement already satisfied: logbook>=1.8.0 in c:\\users\\sirius\\anaconda3\\lib\\site-packages (from spacetrack) (1.8.2)\n",
      "Requirement already satisfied: outcome>=1.3.0.post0 in c:\\users\\sirius\\anaconda3\\lib\\site-packages (from spacetrack) (1.3.0.post0)\n",
      "Requirement already satisfied: platformdirs>=4.3.6 in c:\\users\\sirius\\anaconda3\\lib\\site-packages (from spacetrack) (4.3.8)\n",
      "Requirement already satisfied: represent>=2.1 in c:\\users\\sirius\\anaconda3\\lib\\site-packages (from spacetrack) (2.1)\n",
      "Requirement already satisfied: rush>=2021.4.0 in c:\\users\\sirius\\anaconda3\\lib\\site-packages (from spacetrack) (2021.4.0)\n",
      "Requirement already satisfied: sniffio>=1.3.1 in c:\\users\\sirius\\anaconda3\\lib\\site-packages (from spacetrack) (1.3.1)\n",
      "Requirement already satisfied: anyio in c:\\users\\sirius\\anaconda3\\lib\\site-packages (from httpx>=0.28.1->spacetrack) (4.2.0)\n",
      "Requirement already satisfied: certifi in c:\\users\\sirius\\anaconda3\\lib\\site-packages (from httpx>=0.28.1->spacetrack) (2025.6.15)\n",
      "Requirement already satisfied: httpcore==1.* in c:\\users\\sirius\\anaconda3\\lib\\site-packages (from httpx>=0.28.1->spacetrack) (1.0.2)\n",
      "Requirement already satisfied: idna in c:\\users\\sirius\\anaconda3\\lib\\site-packages (from httpx>=0.28.1->spacetrack) (3.7)\n",
      "Requirement already satisfied: h11<0.15,>=0.13 in c:\\users\\sirius\\anaconda3\\lib\\site-packages (from httpcore==1.*->httpx>=0.28.1->spacetrack) (0.14.0)\n",
      "Requirement already satisfied: attrs>=19.2.0 in c:\\users\\sirius\\anaconda3\\lib\\site-packages (from outcome>=1.3.0.post0->spacetrack) (23.1.0)\n",
      "Requirement already satisfied: pyshp in c:\\users\\sirius\\anaconda3\\lib\\site-packages (2.3.1)\n",
      "Requirement already satisfied: shapely in c:\\users\\sirius\\anaconda3\\lib\\site-packages (2.0.5)\n",
      "Requirement already satisfied: numpy<3,>=1.14 in c:\\users\\sirius\\anaconda3\\lib\\site-packages (from shapely) (1.26.4)\n"
     ]
    },
    {
     "name": "stderr",
     "output_type": "stream",
     "text": [
      "ERROR: Could not find a version that satisfies the requirement shapefile (from versions: none)\n",
      "ERROR: No matching distribution found for shapefile\n"
     ]
    },
    {
     "name": "stdout",
     "output_type": "stream",
     "text": [
      "Requirement already satisfied: geopandas in c:\\users\\sirius\\anaconda3\\lib\\site-packages (1.1.1)\n",
      "Requirement already satisfied: numpy>=1.24 in c:\\users\\sirius\\anaconda3\\lib\\site-packages (from geopandas) (1.26.4)\n",
      "Requirement already satisfied: pyogrio>=0.7.2 in c:\\users\\sirius\\anaconda3\\lib\\site-packages (from geopandas) (0.10.0)\n",
      "Requirement already satisfied: packaging in c:\\users\\sirius\\anaconda3\\lib\\site-packages (from geopandas) (24.1)\n",
      "Requirement already satisfied: pandas>=2.0.0 in c:\\users\\sirius\\anaconda3\\lib\\site-packages (from geopandas) (2.2.2)\n",
      "Requirement already satisfied: pyproj>=3.5.0 in c:\\users\\sirius\\anaconda3\\lib\\site-packages (from geopandas) (3.7.1)\n",
      "Requirement already satisfied: shapely>=2.0.0 in c:\\users\\sirius\\anaconda3\\lib\\site-packages (from geopandas) (2.0.5)\n",
      "Requirement already satisfied: python-dateutil>=2.8.2 in c:\\users\\sirius\\anaconda3\\lib\\site-packages (from pandas>=2.0.0->geopandas) (2.9.0.post0)\n",
      "Requirement already satisfied: pytz>=2020.1 in c:\\users\\sirius\\anaconda3\\lib\\site-packages (from pandas>=2.0.0->geopandas) (2024.1)\n",
      "Requirement already satisfied: tzdata>=2022.7 in c:\\users\\sirius\\anaconda3\\lib\\site-packages (from pandas>=2.0.0->geopandas) (2023.3)\n",
      "Requirement already satisfied: certifi in c:\\users\\sirius\\anaconda3\\lib\\site-packages (from pyogrio>=0.7.2->geopandas) (2025.6.15)\n",
      "Requirement already satisfied: six>=1.5 in c:\\users\\sirius\\anaconda3\\lib\\site-packages (from python-dateutil>=2.8.2->pandas>=2.0.0->geopandas) (1.16.0)\n",
      "Requirement already satisfied: contextily in c:\\users\\sirius\\anaconda3\\lib\\site-packages (1.6.2)\n",
      "Requirement already satisfied: geopy in c:\\users\\sirius\\anaconda3\\lib\\site-packages (from contextily) (2.4.1)\n",
      "Requirement already satisfied: matplotlib in c:\\users\\sirius\\anaconda3\\lib\\site-packages (from contextily) (3.9.2)\n",
      "Requirement already satisfied: mercantile in c:\\users\\sirius\\anaconda3\\lib\\site-packages (from contextily) (1.2.1)\n",
      "Requirement already satisfied: pillow in c:\\users\\sirius\\anaconda3\\lib\\site-packages (from contextily) (10.4.0)\n",
      "Requirement already satisfied: rasterio in c:\\users\\sirius\\anaconda3\\lib\\site-packages (from contextily) (1.4.3)\n",
      "Requirement already satisfied: requests in c:\\users\\sirius\\anaconda3\\lib\\site-packages (from contextily) (2.32.3)\n",
      "Requirement already satisfied: joblib in c:\\users\\sirius\\anaconda3\\lib\\site-packages (from contextily) (1.4.2)\n",
      "Requirement already satisfied: xyzservices in c:\\users\\sirius\\anaconda3\\lib\\site-packages (from contextily) (2022.9.0)\n",
      "Requirement already satisfied: geographiclib<3,>=1.52 in c:\\users\\sirius\\anaconda3\\lib\\site-packages (from geopy->contextily) (2.0)\n",
      "Requirement already satisfied: contourpy>=1.0.1 in c:\\users\\sirius\\anaconda3\\lib\\site-packages (from matplotlib->contextily) (1.2.0)\n",
      "Requirement already satisfied: cycler>=0.10 in c:\\users\\sirius\\anaconda3\\lib\\site-packages (from matplotlib->contextily) (0.11.0)\n",
      "Requirement already satisfied: fonttools>=4.22.0 in c:\\users\\sirius\\anaconda3\\lib\\site-packages (from matplotlib->contextily) (4.51.0)\n",
      "Requirement already satisfied: kiwisolver>=1.3.1 in c:\\users\\sirius\\anaconda3\\lib\\site-packages (from matplotlib->contextily) (1.4.4)\n",
      "Requirement already satisfied: numpy>=1.23 in c:\\users\\sirius\\anaconda3\\lib\\site-packages (from matplotlib->contextily) (1.26.4)\n",
      "Requirement already satisfied: packaging>=20.0 in c:\\users\\sirius\\anaconda3\\lib\\site-packages (from matplotlib->contextily) (24.1)\n",
      "Requirement already satisfied: pyparsing>=2.3.1 in c:\\users\\sirius\\anaconda3\\lib\\site-packages (from matplotlib->contextily) (3.1.2)\n",
      "Requirement already satisfied: python-dateutil>=2.7 in c:\\users\\sirius\\anaconda3\\lib\\site-packages (from matplotlib->contextily) (2.9.0.post0)\n",
      "Requirement already satisfied: click>=3.0 in c:\\users\\sirius\\anaconda3\\lib\\site-packages (from mercantile->contextily) (8.1.7)\n",
      "Requirement already satisfied: affine in c:\\users\\sirius\\anaconda3\\lib\\site-packages (from rasterio->contextily) (2.4.0)\n",
      "Requirement already satisfied: attrs in c:\\users\\sirius\\anaconda3\\lib\\site-packages (from rasterio->contextily) (23.1.0)\n",
      "Requirement already satisfied: certifi in c:\\users\\sirius\\anaconda3\\lib\\site-packages (from rasterio->contextily) (2025.6.15)\n",
      "Requirement already satisfied: cligj>=0.5 in c:\\users\\sirius\\anaconda3\\lib\\site-packages (from rasterio->contextily) (0.7.2)\n",
      "Requirement already satisfied: click-plugins in c:\\users\\sirius\\anaconda3\\lib\\site-packages (from rasterio->contextily) (1.1.1.2)\n",
      "Requirement already satisfied: charset-normalizer<4,>=2 in c:\\users\\sirius\\anaconda3\\lib\\site-packages (from requests->contextily) (3.3.2)\n",
      "Requirement already satisfied: idna<4,>=2.5 in c:\\users\\sirius\\anaconda3\\lib\\site-packages (from requests->contextily) (3.7)\n",
      "Requirement already satisfied: urllib3<3,>=1.21.1 in c:\\users\\sirius\\anaconda3\\lib\\site-packages (from requests->contextily) (2.2.3)\n",
      "Requirement already satisfied: colorama in c:\\users\\sirius\\anaconda3\\lib\\site-packages (from click>=3.0->mercantile->contextily) (0.4.6)\n",
      "Requirement already satisfied: six>=1.5 in c:\\users\\sirius\\anaconda3\\lib\\site-packages (from python-dateutil>=2.7->matplotlib->contextily) (1.16.0)\n",
      "Requirement already satisfied: fiona in c:\\users\\sirius\\anaconda3\\lib\\site-packages (1.10.1)\n",
      "Requirement already satisfied: attrs>=19.2.0 in c:\\users\\sirius\\anaconda3\\lib\\site-packages (from fiona) (23.1.0)\n",
      "Requirement already satisfied: certifi in c:\\users\\sirius\\anaconda3\\lib\\site-packages (from fiona) (2025.6.15)\n",
      "Requirement already satisfied: click~=8.0 in c:\\users\\sirius\\anaconda3\\lib\\site-packages (from fiona) (8.1.7)\n",
      "Requirement already satisfied: click-plugins>=1.0 in c:\\users\\sirius\\anaconda3\\lib\\site-packages (from fiona) (1.1.1.2)\n",
      "Requirement already satisfied: cligj>=0.5 in c:\\users\\sirius\\anaconda3\\lib\\site-packages (from fiona) (0.7.2)\n",
      "Requirement already satisfied: colorama in c:\\users\\sirius\\anaconda3\\lib\\site-packages (from click~=8.0->fiona) (0.4.6)\n",
      "Requirement already satisfied: folium in c:\\users\\sirius\\anaconda3\\lib\\site-packages (0.20.0)\n",
      "Requirement already satisfied: branca>=0.6.0 in c:\\users\\sirius\\anaconda3\\lib\\site-packages (from folium) (0.8.1)\n",
      "Requirement already satisfied: jinja2>=2.9 in c:\\users\\sirius\\anaconda3\\lib\\site-packages (from folium) (3.1.4)\n",
      "Requirement already satisfied: numpy in c:\\users\\sirius\\anaconda3\\lib\\site-packages (from folium) (1.26.4)\n",
      "Requirement already satisfied: requests in c:\\users\\sirius\\anaconda3\\lib\\site-packages (from folium) (2.32.3)\n",
      "Requirement already satisfied: xyzservices in c:\\users\\sirius\\anaconda3\\lib\\site-packages (from folium) (2022.9.0)\n",
      "Requirement already satisfied: MarkupSafe>=2.0 in c:\\users\\sirius\\anaconda3\\lib\\site-packages (from jinja2>=2.9->folium) (2.1.3)\n",
      "Requirement already satisfied: charset-normalizer<4,>=2 in c:\\users\\sirius\\anaconda3\\lib\\site-packages (from requests->folium) (3.3.2)\n",
      "Requirement already satisfied: idna<4,>=2.5 in c:\\users\\sirius\\anaconda3\\lib\\site-packages (from requests->folium) (3.7)\n",
      "Requirement already satisfied: urllib3<3,>=1.21.1 in c:\\users\\sirius\\anaconda3\\lib\\site-packages (from requests->folium) (2.2.3)\n",
      "Requirement already satisfied: certifi>=2017.4.17 in c:\\users\\sirius\\anaconda3\\lib\\site-packages (from requests->folium) (2025.6.15)\n"
     ]
    }
   ],
   "source": [
    "#Для расчета трассы полета\n",
    "!pip install pyorbital\n",
    "#Для получения TLE файла из базы\n",
    "!pip install spacetrack\n",
    "\n",
    "#Для работы с шейп-файлами\n",
    "!pip install pyshp\n",
    "!pip install shapely\n",
    "!pip install shapefile\n",
    "\n",
    "#Для работы с геоданными\n",
    "!pip install geopandas\n",
    "!pip install contextily\n",
    "!pip install fiona\n",
    "\n",
    "#Для создания интерактивной карты\n",
    "!pip install folium"
   ]
  },
  {
   "cell_type": "code",
   "execution_count": 5,
   "id": "5db91332",
   "metadata": {},
   "outputs": [
    {
     "name": "stdout",
     "output_type": "stream",
     "text": [
      "All installed and imported!\n"
     ]
    }
   ],
   "source": [
    "#Библиотеки для построения трассировки КА\n",
    "from datetime import datetime, date, timedelta\n",
    "import spacetrack.operators as op\n",
    "from spacetrack import SpaceTrackClient\n",
    "from pyorbital.orbital import Orbital\n",
    "\n",
    "#Библиотеки для работы с шейпфайлами (shapefiles)\n",
    "import shapefile\n",
    "import fiona\n",
    "from shapely.geometry import Point, Polygon, mapping\n",
    "\n",
    "#Библиотеки для математических вычислений и моделирования\n",
    "import numpy as np\n",
    "import matplotlib.pyplot as plt\n",
    "import math\n",
    "import geopandas as gpd\n",
    "import contextily as ctx\n",
    "import pandas as pd\n",
    "import csv\n",
    "import math\n",
    "\n",
    "#Библиотека folium для создания интерактивной карты\n",
    "import folium\n",
    "from folium.plugins import MarkerCluster\n",
    "from folium.plugins import MousePosition\n",
    "from folium.features import DivIcon\n",
    "print('All installed and imported!')"
   ]
  },
  {
   "cell_type": "code",
   "execution_count": 7,
   "id": "b5e9ed89",
   "metadata": {},
   "outputs": [],
   "source": [
    "def energy_consumption(P_ust, P_obes, N_radio, T_KA, t_sem, input_csv):\n",
    "    '''file=gpd.read_file(input_csv)\n",
    "    df=pd.DataFrame(file)'''\n",
    "    df = pd.read_csv(input_csv)\n",
    "    nv=[]\n",
    "    str=[]\n",
    "    time_sec=0\n",
    "    P_sem=0\n",
    "    P_mv=0\n",
    "    P_no=0\n",
    "    P_o=0\n",
    "    for i in range(len(df)):\n",
    "        str=df['TIME'][i]\n",
    "        time_sec=int(str.split()[1].split(sep=':')[0])*3600+int(str.split()[1].split(sep=':')[1])*60+int(str.split()[1].split(sep=':')[2])\n",
    "        nv.append(1+(time_sec//T_KA))\n",
    "    actuals_s = pd.Series(nv)\n",
    "    df['VITOK'] = actuals_s\n",
    "    j=0\n",
    "    for i in range(1, df['VITOK'].max()+1):\n",
    "        k=0\n",
    "        P_sem=0\n",
    "        while j<len(df) and i==df['VITOK'][j]:\n",
    "            j+=1\n",
    "            k+=1\n",
    "        P_sem=k*N_radio*t_sem/T_KA\n",
    "        P_sem=round(P_sem, 3)\n",
    "        P_mv=0\n",
    "        P_no=0\n",
    "        P_o=0\n",
    "        n=int(input('Начинаем расчёт энергопотребления не отменяемых операций. Введите количество операций'))\n",
    "        if n!=0:\n",
    "            for g in range(n):\n",
    "                k=int(input('Введите количество систем участвующих в {}-й операции'.format(g+1)))\n",
    "                for f in range(k):\n",
    "                    N_k=float(input('Введите энергопотребление {}-й системы'.format(f+1)))\n",
    "                    t_k=int(input('Введите время работы {}-й системы'.format(f+1)))\n",
    "                    P_no+=N_k*t_k\n",
    "        n=int(input('Начинаем расчёт энергопотребления отменяемых операций. Введите количество операций'))\n",
    "        if n!=0:\n",
    "            for g in range(n):\n",
    "                k=int(input('Введите количество систем участвующих в {}-й операции'.format(g+1)))\n",
    "                for f in range(k):\n",
    "                    N_k=float(input('Введите энергопотребление {}-й системы'.format(f+1)))\n",
    "                    t_k=int(input('Введите время работы {}-й системы'.format(f+1)))\n",
    "                    P_o+=N_k*t_k\n",
    "        P_mv=P_obes+P_no+P_o+P_sem\n",
    "        print(\"Энергопотребление на витке:\", P_mv)\n",
    "        if P_mv<=P_ust:\n",
    "            print('{} - OK'.format(i))\n",
    "        else:\n",
    "            print('{} - энергопотребление превышено'.format(i))"
   ]
  },
  {
   "cell_type": "code",
   "execution_count": 11,
   "id": "51714533-65c8-4443-91a4-b6001b594992",
   "metadata": {},
   "outputs": [
    {
     "name": "stdin",
     "output_type": "stream",
     "text": [
      "Введите путь к рабочей папке: C:/Users/Sirius/Desktop/Тест единства\n",
      "Введите установленную средневитковую мощность: 310.5\n",
      "Введите мощность обеспечивающих систем в дежурном режиме: 230.6\n",
      "Введите мощность радиолокатора: 73.8\n",
      "Введите время продолжительности съёмки (в сек): 15\n",
      "Период обращения КА (в сек): 5400\n"
     ]
    }
   ],
   "source": [
    "papka = str(input('Введите путь к рабочей папке:'))\n",
    "P_ust = float(input('Введите установленную средневитковую мощность:'))\n",
    "P_ob = float(input('Введите мощность обеспечивающих систем в дежурном режиме:'))\n",
    "N =  float(input('Введите мощность радиолокатора:'))\n",
    "t = int(input('Введите время продолжительности съёмки (в сек):'))\n",
    "T = int(input('Период обращения КА (в сек):'))"
   ]
  },
  {
   "cell_type": "code",
   "execution_count": 12,
   "id": "9ef61381",
   "metadata": {},
   "outputs": [
    {
     "name": "stdin",
     "output_type": "stream",
     "text": [
      "Начинаем расчёт энергопотребления не отменяемых операций. Введите количество операций 0\n",
      "Начинаем расчёт энергопотребления отменяемых операций. Введите количество операций 0\n"
     ]
    },
    {
     "name": "stdout",
     "output_type": "stream",
     "text": [
      "Энергопотребление на витке: 231.01\n",
      "1 - OK\n"
     ]
    },
    {
     "name": "stdin",
     "output_type": "stream",
     "text": [
      "Начинаем расчёт энергопотребления не отменяемых операций. Введите количество операций 0\n",
      "Начинаем расчёт энергопотребления отменяемых операций. Введите количество операций 0\n"
     ]
    },
    {
     "name": "stdout",
     "output_type": "stream",
     "text": [
      "Энергопотребление на витке: 230.805\n",
      "2 - OK\n"
     ]
    },
    {
     "name": "stdin",
     "output_type": "stream",
     "text": [
      "Начинаем расчёт энергопотребления не отменяемых операций. Введите количество операций 0\n",
      "Начинаем расчёт энергопотребления отменяемых операций. Введите количество операций 0\n"
     ]
    },
    {
     "name": "stdout",
     "output_type": "stream",
     "text": [
      "Энергопотребление на витке: 230.6\n",
      "3 - OK\n"
     ]
    },
    {
     "name": "stdin",
     "output_type": "stream",
     "text": [
      "Начинаем расчёт энергопотребления не отменяемых операций. Введите количество операций 0\n",
      "Начинаем расчёт энергопотребления отменяемых операций. Введите количество операций 0\n"
     ]
    },
    {
     "name": "stdout",
     "output_type": "stream",
     "text": [
      "Энергопотребление на витке: 230.6\n",
      "4 - OK\n"
     ]
    },
    {
     "name": "stdin",
     "output_type": "stream",
     "text": [
      "Начинаем расчёт энергопотребления не отменяемых операций. Введите количество операций 0\n",
      "Начинаем расчёт энергопотребления отменяемых операций. Введите количество операций 0\n"
     ]
    },
    {
     "name": "stdout",
     "output_type": "stream",
     "text": [
      "Энергопотребление на витке: 230.805\n",
      "5 - OK\n"
     ]
    },
    {
     "name": "stdin",
     "output_type": "stream",
     "text": [
      "Начинаем расчёт энергопотребления не отменяемых операций. Введите количество операций 0\n",
      "Начинаем расчёт энергопотребления отменяемых операций. Введите количество операций 0\n"
     ]
    },
    {
     "name": "stdout",
     "output_type": "stream",
     "text": [
      "Энергопотребление на витке: 231.215\n",
      "6 - OK\n"
     ]
    },
    {
     "name": "stdin",
     "output_type": "stream",
     "text": [
      "Начинаем расчёт энергопотребления не отменяемых операций. Введите количество операций 0\n",
      "Начинаем расчёт энергопотребления отменяемых операций. Введите количество операций 0\n"
     ]
    },
    {
     "name": "stdout",
     "output_type": "stream",
     "text": [
      "Энергопотребление на витке: 230.805\n",
      "7 - OK\n"
     ]
    },
    {
     "name": "stdin",
     "output_type": "stream",
     "text": [
      "Начинаем расчёт энергопотребления не отменяемых операций. Введите количество операций 0\n",
      "Начинаем расчёт энергопотребления отменяемых операций. Введите количество операций 0\n"
     ]
    },
    {
     "name": "stdout",
     "output_type": "stream",
     "text": [
      "Энергопотребление на витке: 231.42\n",
      "8 - OK\n"
     ]
    },
    {
     "name": "stdin",
     "output_type": "stream",
     "text": [
      "Начинаем расчёт энергопотребления не отменяемых операций. Введите количество операций 0\n",
      "Начинаем расчёт энергопотребления отменяемых операций. Введите количество операций 0\n"
     ]
    },
    {
     "name": "stdout",
     "output_type": "stream",
     "text": [
      "Энергопотребление на витке: 231.42\n",
      "9 - OK\n"
     ]
    },
    {
     "name": "stdin",
     "output_type": "stream",
     "text": [
      "Начинаем расчёт энергопотребления не отменяемых операций. Введите количество операций 0\n",
      "Начинаем расчёт энергопотребления отменяемых операций. Введите количество операций 0\n"
     ]
    },
    {
     "name": "stdout",
     "output_type": "stream",
     "text": [
      "Энергопотребление на витке: 231.42\n",
      "10 - OK\n"
     ]
    },
    {
     "name": "stdin",
     "output_type": "stream",
     "text": [
      "Начинаем расчёт энергопотребления не отменяемых операций. Введите количество операций 0\n",
      "Начинаем расчёт энергопотребления отменяемых операций. Введите количество операций 0\n"
     ]
    },
    {
     "name": "stdout",
     "output_type": "stream",
     "text": [
      "Энергопотребление на витке: 232.035\n",
      "11 - OK\n"
     ]
    },
    {
     "name": "stdin",
     "output_type": "stream",
     "text": [
      "Начинаем расчёт энергопотребления не отменяемых операций. Введите количество операций 0\n",
      "Начинаем расчёт энергопотребления отменяемых операций. Введите количество операций 0\n"
     ]
    },
    {
     "name": "stdout",
     "output_type": "stream",
     "text": [
      "Энергопотребление на витке: 232.445\n",
      "12 - OK\n"
     ]
    },
    {
     "name": "stdin",
     "output_type": "stream",
     "text": [
      "Начинаем расчёт энергопотребления не отменяемых операций. Введите количество операций 0\n",
      "Начинаем расчёт энергопотребления отменяемых операций. Введите количество операций 0\n"
     ]
    },
    {
     "name": "stdout",
     "output_type": "stream",
     "text": [
      "Энергопотребление на витке: 231.625\n",
      "13 - OK\n"
     ]
    },
    {
     "name": "stdin",
     "output_type": "stream",
     "text": [
      "Начинаем расчёт энергопотребления не отменяемых операций. Введите количество операций 0\n",
      "Начинаем расчёт энергопотребления отменяемых операций. Введите количество операций 0\n"
     ]
    },
    {
     "name": "stdout",
     "output_type": "stream",
     "text": [
      "Энергопотребление на витке: 231.42\n",
      "14 - OK\n"
     ]
    },
    {
     "name": "stdin",
     "output_type": "stream",
     "text": [
      "Начинаем расчёт энергопотребления не отменяемых операций. Введите количество операций 0\n",
      "Начинаем расчёт энергопотребления отменяемых операций. Введите количество операций 0\n"
     ]
    },
    {
     "name": "stdout",
     "output_type": "stream",
     "text": [
      "Энергопотребление на витке: 231.215\n",
      "15 - OK\n"
     ]
    },
    {
     "name": "stdin",
     "output_type": "stream",
     "text": [
      "Начинаем расчёт энергопотребления не отменяемых операций. Введите количество операций 0\n",
      "Начинаем расчёт энергопотребления отменяемых операций. Введите количество операций 0\n"
     ]
    },
    {
     "name": "stdout",
     "output_type": "stream",
     "text": [
      "Энергопотребление на витке: 231.215\n",
      "16 - OK\n"
     ]
    }
   ],
   "source": [
    "energy_consumption(P_ust, P_ob, N, T, t, papka + '/shooting_time_all.csv')"
   ]
  },
  {
   "cell_type": "code",
   "execution_count": null,
   "id": "f1e5b3dd-584d-4f70-97df-231b81baf910",
   "metadata": {},
   "outputs": [],
   "source": []
  }
 ],
 "metadata": {
  "kernelspec": {
   "display_name": "Python 3 (ipykernel)",
   "language": "python",
   "name": "python3"
  },
  "language_info": {
   "codemirror_mode": {
    "name": "ipython",
    "version": 3
   },
   "file_extension": ".py",
   "mimetype": "text/x-python",
   "name": "python",
   "nbconvert_exporter": "python",
   "pygments_lexer": "ipython3",
   "version": "3.12.3"
  }
 },
 "nbformat": 4,
 "nbformat_minor": 5
}
