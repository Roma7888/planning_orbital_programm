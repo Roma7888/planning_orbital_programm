{
 "cells": [
  {
   "cell_type": "code",
   "execution_count": 1,
   "id": "b4a7ba75-ab79-40d6-aed4-5b9b039b1f70",
   "metadata": {},
   "outputs": [
    {
     "name": "stdout",
     "output_type": "stream",
     "text": [
      "All imported\n"
     ]
    }
   ],
   "source": [
    "from datetime import datetime, date, timedelta\n",
    "import pandas as pd\n",
    "import geopandas as gpd\n",
    "from random import randint\n",
    "print('All imported')"
   ]
  },
  {
   "cell_type": "code",
   "execution_count": 8,
   "id": "9f680ef1-d700-41e4-a0ce-790ca07484fe",
   "metadata": {},
   "outputs": [
    {
     "name": "stdin",
     "output_type": "stream",
     "text": [
      " C:/Users/Sirius/Desktop/Тест временные\n",
      " 62138\n"
     ]
    }
   ],
   "source": [
    "papka = str(input())\n",
    "nomer = int(input())"
   ]
  },
  {
   "cell_type": "code",
   "execution_count": 3,
   "id": "c858cf87-3d1e-4a33-8533-390fd8325284",
   "metadata": {},
   "outputs": [],
   "source": [
    "def create_table_cup(input_file= papka + '/warnings.txt'):\n",
    "    file = open(input_file)\n",
    "    tcu = []\n",
    "    opd = []\n",
    "    no_info_strings = 0\n",
    "    step = 0\n",
    "    for i in file:\n",
    "        if i[0] in '0123456789':\n",
    "            parts = i.split()\n",
    "            date_start_list = parts[0].split(\"T\")\n",
    "            date_end_list = parts[1].split(\"T\")\n",
    "            date_start = datetime(int(date_start_list[0][:4]), int(date_start_list[0][5:7]), int(date_start_list[0][8:10]), int(date_start_list[1][:2]), int(date_start_list[1][3:5]), int(date_start_list[1][6:8]))\n",
    "            date_end = datetime(int(date_end_list[0][:4]), int(date_end_list[0][5:7]), int(date_end_list[0][8:10]), int(date_end_list[1][:2]), int(date_end_list[1][3:5]), int(date_end_list[1][6:8]))\n",
    "            if no_info_strings < 5:\n",
    "                tcu.append([date_start, date_end])\n",
    "            else:\n",
    "                opd.append([date_start, date_end])\n",
    "        else:\n",
    "            no_info_strings += 1\n",
    "    return tcu, opd"
   ]
  },
  {
   "cell_type": "code",
   "execution_count": 4,
   "id": "2f0632f0-f453-4884-a7c9-32c59a4f87b8",
   "metadata": {},
   "outputs": [],
   "source": [
    "def is_time_between(begin_time, end_time, check_time):\n",
    "    if begin_time < end_time:\n",
    "        return check_time >= begin_time and check_time <= end_time\n",
    "    else:\n",
    "        return check_time >= begin_time or check_time <= end_time"
   ]
  },
  {
   "cell_type": "code",
   "execution_count": 13,
   "id": "969e439c-0bd2-47b0-b15d-2fed022f6207",
   "metadata": {},
   "outputs": [],
   "source": [
    "def cup_intersections(input_subsatellite_points= papka + '/trassirovka_{}.shp'.format(nomer), output_file=papka + '/CUP/'):\n",
    "    subs_points = gpd.read_file(input_subsatellite_points)\n",
    "    cup_tcu, cup_opd = create_table_cup()\n",
    "    step = 0\n",
    "    for time_interval in cup_tcu:\n",
    "        cup_points = subs_points\n",
    "        for id, point in subs_points.iterrows():\n",
    "            point_date_time = datetime.strptime(point[\"TIME\"], '%Y-%m-%d %H:%M:%S')\n",
    "            if not is_time_between(time_interval[0], time_interval[1], point_date_time):\n",
    "                cup_points = cup_points.drop(axis=0, index=id, inplace=False)\n",
    "        cup_points.to_file(str(output_file) + 'tcu_points' + str(step) + '.shp')\n",
    "        step += 1\n",
    "    step = 0\n",
    "    for time_interval in cup_opd:\n",
    "        cup_points = subs_points\n",
    "        for id, point in subs_points.iterrows():\n",
    "            point_date_time = datetime.strptime(point[\"TIME\"], '%Y-%m-%d %H:%M:%S')\n",
    "            if not is_time_between(time_interval[0], time_interval[1], point_date_time):\n",
    "                cup_points = cup_points.drop(axis=0, index=id, inplace=False)\n",
    "        cup_points.to_file(str(output_file) + 'opd_points' + str(step) + '.shp')\n",
    "        step += 1"
   ]
  },
  {
   "cell_type": "code",
   "execution_count": 15,
   "id": "38b2b275-ffad-4ed4-ae21-80ae49ab3f5d",
   "metadata": {},
   "outputs": [],
   "source": [
    "cup_intersections()"
   ]
  },
  {
   "cell_type": "code",
   "execution_count": 17,
   "id": "878b8f13-4d68-4c64-a4cf-4428f000a613",
   "metadata": {},
   "outputs": [],
   "source": [
    "def success_shooting(time_delta=81, shooting_programm=papka + '/shooting_time_all.csv', correct_shooting_program=papka + '/corrected_shooting_points_1.xlsx'):\n",
    "    tcu, opd = create_table_cup()\n",
    "    restricts = tcu + opd\n",
    "    shooting_input = pd.read_csv(shooting_programm)\n",
    "    shooting_table = pd.DataFrame(shooting_input)\n",
    "    dates_of_shooting = []\n",
    "    for id, row in shooting_table.iterrows():\n",
    "        dates_of_shooting.append(datetime.strptime(row[\"TIME\"], '%Y-%m-%d %H:%M:%S'))\n",
    "    dates_of_shooting.sort()\n",
    "    is_valid_coloumn = []\n",
    "    time_delta_valid = []\n",
    "    reason_of_false = []\n",
    "    last_date_of_shooting = None\n",
    "    # print('START\\t\\t\\tEND\\t\\t\\tCHECK\\t\\t\\tSTATE')\n",
    "    for row in dates_of_shooting:\n",
    "        all = 0\n",
    "        reason = None\n",
    "        for i in restricts:\n",
    "            if not is_time_between(i[0], i[1], row):\n",
    "                all += 1\n",
    "            else:\n",
    "                reason = \"TCU\" if i in tcu else \"OPD\"\n",
    "            # print(str(i[0]) + '\\t' + str(i[1]) + '\\t' + str(row) + '\\t' + str(True if not is_time_between(i[0], i[1], row) else False))\n",
    "        \n",
    "        if all == len(restricts):\n",
    "            is_valid_coloumn.append(True)\n",
    "            reason_of_false.append(None)\n",
    "        else:\n",
    "            is_valid_coloumn.append(False)\n",
    "            reason_of_false.append(reason)\n",
    "        try:\n",
    "            if int((row - last_date_of_shooting).total_seconds()) <= time_delta:\n",
    "                # time_delta_valid[-1] = False\n",
    "                time_delta_valid.append(False)\n",
    "            else:\n",
    "                time_delta_valid.append(True)\n",
    "                last_date_of_shooting = row\n",
    "        except:\n",
    "            time_delta_valid.append(True)\n",
    "            last_date_of_shooting = row\n",
    "    is_valid_series = pd.Series(is_valid_coloumn, name=\"IS_VALID\")\n",
    "    time_delta_valid_series = pd.Series(time_delta_valid, name='TM_DLT_VLD')\n",
    "    shooting_table[\"TIME\"] = dates_of_shooting\n",
    "    shooting_table[\"IS_VALID\"] = is_valid_series\n",
    "    shooting_table[\"TM_DLT_VLD\"] = time_delta_valid_series\n",
    "    shooting_table[\"REASON\"] = reason_of_false\n",
    "    shooting_table.to_excel(correct_shooting_program, index=False)"
   ]
  },
  {
   "cell_type": "code",
   "execution_count": 19,
   "id": "512a9a27-0d99-4968-9ccc-20fe04efe74d",
   "metadata": {},
   "outputs": [],
   "source": [
    "success_shooting()"
   ]
  },
  {
   "cell_type": "code",
   "execution_count": null,
   "id": "58dec3a3-d206-432e-82cf-17cf17aeb5c2",
   "metadata": {},
   "outputs": [],
   "source": []
  }
 ],
 "metadata": {
  "kernelspec": {
   "display_name": "Python 3 (ipykernel)",
   "language": "python",
   "name": "python3"
  },
  "language_info": {
   "codemirror_mode": {
    "name": "ipython",
    "version": 3
   },
   "file_extension": ".py",
   "mimetype": "text/x-python",
   "name": "python",
   "nbconvert_exporter": "python",
   "pygments_lexer": "ipython3",
   "version": "3.11.7"
  }
 },
 "nbformat": 4,
 "nbformat_minor": 5
}
