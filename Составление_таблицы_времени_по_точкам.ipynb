{
 "cells": [
  {
   "cell_type": "code",
   "execution_count": 3,
   "id": "23674466",
   "metadata": {},
   "outputs": [
    {
     "name": "stdout",
     "output_type": "stream",
     "text": [
      "All imported!\n"
     ]
    }
   ],
   "source": [
    "#Библиотеки для математических вычислений и работы с данными\n",
    "import math\n",
    "from numpy import Inf\n",
    "import pandas as pd\n",
    "import csv\n",
    "#Библиотека для работы с геоданными\n",
    "import geopandas as gpd\n",
    "\n",
    "#Библиотека для работы с временем\n",
    "from datetime import datetime, date, timedelta\n",
    "\n",
    "#Библиотека для получения начальных условий из открытой базы данных spacetrack.org\n",
    "import spacetrack.operators as op\n",
    "from spacetrack import SpaceTrackClient\n",
    "\n",
    "#Библиотека для построения трассировки КА\n",
    "from pyorbital.orbital import Orbital\n",
    "\n",
    "#Библиотеки для работы с шейпфайлами (shapefiles)\n",
    "import shapefile\n",
    "import fiona\n",
    "from shapely.geometry import Point, Polygon, mapping\n",
    "\n",
    "#Библиотеки для создания интерактивной карты и визуализации\n",
    "import folium\n",
    "from folium.plugins import MarkerCluster\n",
    "from folium.plugins import MousePosition\n",
    "from folium.features import DivIcon\n",
    "import matplotlib.pyplot as plt\n",
    "\n",
    "import csv\n",
    "\n",
    "print('All imported!')"
   ]
  },
  {
   "cell_type": "code",
   "execution_count": 12,
   "id": "dc9fc891-c0dd-4cfb-856a-0ba7e6e7c189",
   "metadata": {},
   "outputs": [
    {
     "name": "stdin",
     "output_type": "stream",
     "text": [
      "Введите рабочую папку с подспутниковыми точками: C:/Users/Sirius/Desktop/Тест полосы обзора\n",
      "Введите номер КА в NORAD: 56756\n"
     ]
    }
   ],
   "source": [
    "papka = str(input('Введите рабочую папку с подспутниковыми точками:'))\n",
    "sat = int(input('Введите номер КА в NORAD:')"
   ]
  },
  {
   "cell_type": "code",
   "execution_count": 15,
   "id": "b8143e37",
   "metadata": {},
   "outputs": [],
   "source": [
    "def nearest_subsatellite_point(input_shapefile_tpv, input_papka_pt): #входной файл с точками\n",
    "    min_s=99999999999999999\n",
    "    time=[]\n",
    "    a=-1\n",
    "    #Обработка данных о подспутниковых точках\n",
    "    file_tpv = gpd.read_file(input_shapefile_tpv)\n",
    "    df_tpv = pd.DataFrame(file_tpv)\n",
    "    gdf_tpv = gpd.GeoDataFrame(df_tpv, geometry = gpd.points_from_xy(df_tpv.lat, df_tpv.lon))\n",
    "    for l in range(1, df_tpv['vitok'].max()+1):\n",
    "        file_pt = gpd.read_file(input_papka_pt+'/{}/vitok_{}_pol_{}.shp'.format(l, l, sat))\n",
    "        df_pt = pd.DataFrame(file_pt)\n",
    "        gdf_pt = gpd.GeoDataFrame(df_pt, geometry = gpd.points_from_xy(df_pt.LAT, df_pt.LON))\n",
    "        for j in range(len(file_tpv)): #перебор точек в полигонах\n",
    "            if l==file_tpv['vitok'][j]:\n",
    "                for i in range(len(file_pt)): #перебор точек в трасс\n",
    "                    if min_s>((file_tpv[\"lat\"][j]-file_pt[\"LAT\"][i])**2+(file_tpv[\"lon\"][j]-file_pt[\"LON\"][i])**2):\n",
    "                        min_s=(file_tpv[\"lat\"][j]-file_pt[\"LAT\"][i])**2+(file_tpv[\"lon\"][j]-file_pt[\"LON\"][i])**2\n",
    "                        a=i\n",
    "                time.append(file_pt[\"TIME\"][a])\n",
    "                min_s=99999999999999999\n",
    "                a=-1\n",
    "    print(time)\n",
    "    print(len(time))\n",
    "    with open(papka + \"/shooting_time_all.csv\", \"w\", newline=\"\") as file:  \n",
    "        writer = csv.writer(file)  \n",
    "        writer.writerow(['TIME'])  \n",
    "        for item in time:  \n",
    "            writer.writerow([item])  \n",
    "    print(\"CSV file created: shooting_time_all.csv\")"
   ]
  },
  {
   "cell_type": "code",
   "execution_count": 16,
   "id": "23dc2f4d",
   "metadata": {},
   "outputs": [
    {
     "name": "stdout",
     "output_type": "stream",
     "text": [
      "['2025-07-15 01:07:00', '2025-07-15 06:04:30', '2025-07-15 07:37:00', '2025-07-15 07:39:00', '2025-07-15 09:11:00', '2025-07-15 09:11:00', '2025-07-15 10:44:00', '2025-07-15 10:45:00', '2025-07-15 10:46:30', '2025-07-15 12:19:30', '2025-07-15 12:18:00', '2025-07-15 12:23:30', '2025-07-15 13:55:30', '2025-07-15 13:57:30', '2025-07-15 13:54:00', '2025-07-15 13:52:30', '2025-07-15 13:51:00', '2025-07-15 15:24:30', '2025-07-15 15:29:30', '2025-07-15 15:28:30', '2025-07-15 15:26:30', '2025-07-15 15:25:30', '2025-07-15 16:58:30', '2025-07-15 16:57:30', '2025-07-15 16:55:30', '2025-07-15 17:03:30', '2025-07-15 17:02:00', '2025-07-15 17:00:30', '2025-07-15 18:33:30', '2025-07-15 18:36:30', '2025-07-15 18:30:00', '2025-07-15 20:07:00', '2025-07-15 20:10:00', '2025-07-15 21:42:30', '2025-07-15 21:44:30', '2025-07-15 23:14:30', '2025-07-15 23:18:00']\n",
      "37\n",
      "CSV file created: shooting_time_all.csv\n"
     ]
    }
   ],
   "source": [
    "nearest_subsatellite_point(papka + '/shooting_points.shp', papka)"
   ]
  },
  {
   "cell_type": "code",
   "execution_count": null,
   "id": "c1d9bd85-004b-4133-8614-93bd6e263f45",
   "metadata": {},
   "outputs": [],
   "source": []
  }
 ],
 "metadata": {
  "kernelspec": {
   "display_name": "Python 3 (ipykernel)",
   "language": "python",
   "name": "python3"
  },
  "language_info": {
   "codemirror_mode": {
    "name": "ipython",
    "version": 3
   },
   "file_extension": ".py",
   "mimetype": "text/x-python",
   "name": "python",
   "nbconvert_exporter": "python",
   "pygments_lexer": "ipython3",
   "version": "3.12.3"
  }
 },
 "nbformat": 4,
 "nbformat_minor": 5
}
